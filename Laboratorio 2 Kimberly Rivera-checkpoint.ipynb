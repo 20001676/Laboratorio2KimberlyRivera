{
 "cells": [
  {
   "cell_type": "markdown",
   "metadata": {},
   "source": [
    "##### Kimberly Rivera\n",
    "##### 20001676\n",
    "## Resumen de GIT\n",
    "**A continuación se dará una breve explicación de lo que es GIT ** \n",
    "\n",
    "```python\n",
    "\n",
    "```\n",
    "\n",
    "*¿Qué es GIT?*\n",
    "> Git es un software de control de versiones, es un repositorio pensado para la eficiencia y la confiabilidad de las versiones de aplicaciones cuando se tienen cambios constantes o es modificado por bastantes colaboradores.\n",
    "\n",
    "```python\n",
    "\n",
    "```\n",
    "\n",
    "*¿Por qué es necesario el uso de un control de versiones?*\n",
    "> Es un control de versiones que registra los cambios realizados en un archivo o conjunto de archivos a lo largo del tiempo.\n",
    "\n",
    "```python\n",
    "\n",
    "```\n",
    "\n",
    "*Comandos más comunes y utilizados*\n",
    "\n",
    "|Comando |Concepto |\n",
    "|:-----|:----:|\n",
    "|Git init  |ubicado en la carpeta se registra para git una vez|\n",
    "|Git add Nombre |lo pasa al stage|\n",
    "|Git commit -m “Mensaje” |actualiza y guarda al master o repositorio |\n",
    "\n",
    "```python\n",
    "\n",
    "```\n",
    "\n",
    "(https://missing.csail.mit.edu/2020/version-control/\n",
    "\"Para mayor información\")"
   ]
  },
  {
   "cell_type": "markdown",
   "metadata": {},
   "source": []
  }
 ],
 "metadata": {
  "kernelspec": {
   "display_name": "Python 3",
   "language": "python",
   "name": "python3"
  },
  "language_info": {
   "codemirror_mode": {
    "name": "ipython",
    "version": 3
   },
   "file_extension": ".py",
   "mimetype": "text/x-python",
   "name": "python",
   "nbconvert_exporter": "python",
   "pygments_lexer": "ipython3",
   "version": "3.8.5"
  }
 },
 "nbformat": 4,
 "nbformat_minor": 4
}
